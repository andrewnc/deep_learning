{
 "cells": [
  {
   "cell_type": "markdown",
   "metadata": {},
   "source": [
    "Imports\n",
    "=="
   ]
  },
  {
   "cell_type": "code",
   "execution_count": null,
   "metadata": {
    "collapsed": true
   },
   "outputs": [],
   "source": [
    "import matplotlib.pyplot as plt\n",
    "import pandas\n",
    "import numpy as np\n",
    "%matplotlib inline"
   ]
  },
  {
   "cell_type": "markdown",
   "metadata": {},
   "source": [
    "Prepare Iris Dataset\n",
    "=="
   ]
  },
  {
   "cell_type": "code",
   "execution_count": null,
   "metadata": {
    "collapsed": false
   },
   "outputs": [],
   "source": [
    "#from dr wingate\n",
    "data = pandas.read_csv( 'Iris.csv' )\n",
    "m = data.as_matrix()\n",
    "irisLabels = m[:,0]\n",
    "irisLabels[ irisLabels==2 ] = 1  # squash class 2 into class 1\n",
    "irisLabels = np.atleast_2d( irisLabels ).T\n",
    "irisFeatures = m[:,1:5]\n",
    "irisFeatures = np.append(np.ones([150, 1]), (irisFeatures), axis=1)"
   ]
  },
  {
   "cell_type": "markdown",
   "metadata": {},
   "source": [
    "Prepare CIFAR-10 Dataset\n",
    "=="
   ]
  },
  {
   "cell_type": "code",
   "execution_count": null,
   "metadata": {
    "collapsed": false
   },
   "outputs": [],
   "source": [
    "def unpickle( file ):\n",
    "    import cPickle\n",
    "    fo = open(file, 'rb')\n",
    "    dict = cPickle.load(fo)\n",
    "    fo.close()\n",
    "    return dict\n",
    " \n",
    "data = unpickle( 'cifar-10-batches-py/data_batch_1' )\n",
    " \n",
    "cifarFeatures = data['data']\n",
    "cifarFeatures = np.append(np.ones([10000, 1]), (cifarFeatures), axis=1)\n",
    "cifarLabels = data['labels']\n",
    "cifarLabels = np.atleast_2d( cifarLabels ).T\n",
    " \n",
    "# squash classes 0-4 into class 0, and squash classes 5-9 into class 1 so we don't have to do multi classification\n",
    "cifarLabels[ cifarLabels < 5 ] = 0\n",
    "cifarLabels[ cifarLabels >= 5 ] = 1"
   ]
  },
  {
   "cell_type": "markdown",
   "metadata": {},
   "source": [
    "Graphing Functions\n",
    "=="
   ]
  },
  {
   "cell_type": "code",
   "execution_count": null,
   "metadata": {
    "collapsed": false
   },
   "outputs": [],
   "source": [
    "def graphAcc(accuracies1, accuracies2, iterations, label1, label2): \n",
    "    # set up\n",
    "    plt.figure(figsize=(17,10))\n",
    "    plt.grid(True)\n",
    "    # graph the Accuracy\n",
    "    acc1, = plt.plot(iterations, accuracies1, label=label1)\n",
    "    acc2, = plt.plot(iterations, accuracies2, label=label2)\n",
    "    # legend\n",
    "    plt.legend(handles=[acc1, acc2], loc=4, frameon=True)\n",
    "    plt.xlabel('Iterations')\n",
    "    plt.ylabel('Classification Accuracy (%)')\n",
    "    plt.title('Accuracy', fontsize=17)\n",
    "    plt.show()\n",
    "    \n",
    "def graphL2(l2first, l2second, iterations, label1, label2):\n",
    "    # set up\n",
    "    plt.figure(figsize=(17,10))\n",
    "    plt.grid(True)\n",
    "    # graph the Accuracy\n",
    "    logl2first, = plt.plot(iterations, l2first, label=label1)\n",
    "    logl2second, = plt.plot(iterations, l2second, label=label2) \n",
    "    # legend\n",
    "    plt.legend(handles=[logl2first, logl2second], loc=4, frameon=True)\n",
    "    plt.xlabel('Iterations')\n",
    "    plt.ylabel('Log of L2 norm of weights')\n",
    "    plt.title('Log of L2 Norm', fontsize=17)\n",
    "    plt.show()"
   ]
  },
  {
   "cell_type": "markdown",
   "metadata": {},
   "source": [
    "Perceptron Algorithm\n",
    "=="
   ]
  },
  {
   "cell_type": "code",
   "execution_count": null,
   "metadata": {
    "collapsed": false
   },
   "outputs": [],
   "source": [
    "def initPerceptron(features):\n",
    "    NUMBEROFFEATURES = features.shape[1]\n",
    "    weights = np.random.rand(1, NUMBEROFFEATURES)\n",
    "    return weights\n",
    "\n",
    "def updateWeights(weights, features, oneLabel, oneGuess, STEPSIZE):\n",
    "    error = (oneLabel[0] - oneGuess)\n",
    "    changeInWeights = error * features * STEPSIZE\n",
    "    weights += changeInWeights\n",
    "    return weights\n",
    "        \n",
    "def firePerceptron(value):\n",
    "    if value > 0:\n",
    "        return 1\n",
    "    else:\n",
    "        return 0\n",
    "\n",
    "def runPerceptron(weights, features, labels, STEPSIZE):\n",
    "    for i in xrange(len(features)):\n",
    "        guess = firePerceptron(weights.dot(features[i].T))\n",
    "        weights = updateWeights(weights, features[i], labels[i], guess, STEPSIZE)\n",
    "    return weights\n",
    "\n",
    "def accuracyTest(weights, features, labels):\n",
    "    rawValues = np.sum((features * weights), axis=1)\n",
    "    guesses = np.atleast_2d(map(firePerceptron, rawValues)).T\n",
    "    difference = abs(labels - guesses)\n",
    "    return 1 - np.mean(difference)\n",
    "\n",
    "def accuracyTest2(weights, features, labels):\n",
    "    rawValues = np.sum((features * weights), axis=1)\n",
    "    guesses = np.atleast_2d(map(firePerceptron, rawValues)).T\n",
    "    difference = abs(labels - guesses)\n",
    "    return 1 - (np.sum(difference) / (len(labels) * 1.0))\n",
    "\n",
    "def logL2Norm(weights):\n",
    "    return np.log(np.sqrt(weights.dot(weights.T)))[0][0]"
   ]
  },
  {
   "cell_type": "markdown",
   "metadata": {},
   "source": [
    "Run Perceptron on Iris Dataset\n",
    "=="
   ]
  },
  {
   "cell_type": "code",
   "execution_count": null,
   "metadata": {
    "collapsed": false,
    "scrolled": true
   },
   "outputs": [],
   "source": [
    "STEPSIZE1 = .1\n",
    "STEPSIZE2 = .01\n",
    "ITERATIONS = 100\n",
    "graphIterations = range(ITERATIONS)\n",
    "accuracies = []\n",
    "l2 = []\n",
    "\n",
    "accuracies1 = []\n",
    "l2first = []\n",
    "weights = initPerceptron(irisFeatures)\n",
    "for i in xrange(ITERATIONS):\n",
    "    accuracies1.append(accuracyTest2(weights, irisFeatures, irisLabels))\n",
    "    weights = runPerceptron(weights, irisFeatures, irisLabels, STEPSIZE1)\n",
    "    l2first.append(logL2Norm(weights))\n",
    "    \n",
    "accuracies2 = []\n",
    "l2second = []\n",
    "weights = initPerceptron(irisFeatures)\n",
    "for i in xrange(ITERATIONS):\n",
    "    accuracies2.append(accuracyTest2(weights, irisFeatures, irisLabels))\n",
    "    weights = runPerceptron(weights, irisFeatures, irisLabels, STEPSIZE2)\n",
    "    l2second.append(logL2Norm(weights))\n",
    "\n",
    "graphAcc(accuracies1, accuracies2, graphIterations, '0.1', '0.01')\n",
    "graphL2(l2first, l2second, graphIterations, '0.1', '0.01')"
   ]
  },
  {
   "cell_type": "markdown",
   "metadata": {},
   "source": [
    "Run Perceptron on CIFAR-10 Dataset\n",
    "=="
   ]
  },
  {
   "cell_type": "code",
   "execution_count": null,
   "metadata": {
    "collapsed": false
   },
   "outputs": [],
   "source": [
    "STEPSIZE1 = .001\n",
    "STEPSIZE2 = 1e-05\n",
    "ITERATIONS = 100\n",
    "graphIterations = range(ITERATIONS)\n",
    "accuracies = []\n",
    "l2 = []\n",
    "\n",
    "accuracies1 = []\n",
    "l2first = []\n",
    "weights = initPerceptron(cifarFeatures)\n",
    "for i in xrange(ITERATIONS):\n",
    "    accuracies1.append(accuracyTest2(weights, cifarFeatures, cifarLabels))\n",
    "    l2first.append(logL2Norm(weights))\n",
    "    weights = runPerceptron(weights, cifarFeatures, cifarLabels, STEPSIZE1)\n",
    "    \n",
    "accuracies2 = []\n",
    "l2second = []\n",
    "weights = initPerceptron(cifarFeatures)\n",
    "for i in xrange(ITERATIONS):\n",
    "    accuracies2.append(accuracyTest2(weights, cifarFeatures, cifarLabels))\n",
    "    l2second.append(logL2Norm(weights))\n",
    "    weights = runPerceptron(weights, cifarFeatures, cifarLabels, STEPSIZE2)\n",
    "\n",
    "graphAcc(accuracies1, accuracies2, graphIterations, '.001', '1e-05')\n",
    "graphL2(l2first, l2second, graphIterations, '.001', '1e-05')"
   ]
  },
  {
   "cell_type": "markdown",
   "metadata": {},
   "source": [
    "Practice\n",
    "=="
   ]
  },
  {
   "cell_type": "code",
   "execution_count": null,
   "metadata": {
    "collapsed": false
   },
   "outputs": [],
   "source": []
  },
  {
   "cell_type": "code",
   "execution_count": null,
   "metadata": {
    "collapsed": false
   },
   "outputs": [],
   "source": [
    "x = np.matrix([[2,3,4]])"
   ]
  },
  {
   "cell_type": "code",
   "execution_count": null,
   "metadata": {
    "collapsed": false,
    "scrolled": false
   },
   "outputs": [],
   "source": [
    "y = np.ones([1,3])"
   ]
  },
  {
   "cell_type": "code",
   "execution_count": null,
   "metadata": {
    "collapsed": false
   },
   "outputs": [],
   "source": [
    "np.append(x, y, axis=1)"
   ]
  },
  {
   "cell_type": "code",
   "execution_count": null,
   "metadata": {
    "collapsed": false
   },
   "outputs": [],
   "source": []
  },
  {
   "cell_type": "code",
   "execution_count": null,
   "metadata": {
    "collapsed": false
   },
   "outputs": [],
   "source": []
  },
  {
   "cell_type": "code",
   "execution_count": null,
   "metadata": {
    "collapsed": true
   },
   "outputs": [],
   "source": []
  }
 ],
 "metadata": {
  "anaconda-cloud": {},
  "kernelspec": {
   "display_name": "Python [default]",
   "language": "python",
   "name": "python2"
  },
  "language_info": {
   "codemirror_mode": {
    "name": "ipython",
    "version": 2
   },
   "file_extension": ".py",
   "mimetype": "text/x-python",
   "name": "python",
   "nbconvert_exporter": "python",
   "pygments_lexer": "ipython2",
   "version": "2.7.12"
  }
 },
 "nbformat": 4,
 "nbformat_minor": 0
}
