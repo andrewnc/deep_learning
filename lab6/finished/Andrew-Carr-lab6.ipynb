{
 "cells": [
  {
   "cell_type": "markdown",
   "metadata": {},
   "source": [
    "## Imports"
   ]
  },
  {
   "cell_type": "code",
   "execution_count": 15,
   "metadata": {
    "collapsed": true
   },
   "outputs": [],
   "source": [
    "import tensorflow as tf\n",
    "from skimage.io import imread\n",
    "import matplotlib.pyplot as plt\n",
    "import numpy as np\n",
    "from skimage import transform\n",
    "from tqdm import trange, tqdm\n",
    "from random import shuffle\n",
    "import os"
   ]
  },
  {
   "cell_type": "markdown",
   "metadata": {},
   "source": [
    "When deciding what to optimize for (more data, or a deep network), I choose to use more data. In this cancer detector I am using the entire dataset provided by lumea."
   ]
  },
  {
   "cell_type": "markdown",
   "metadata": {},
   "source": [
    "## Get Data"
   ]
  },
  {
   "cell_type": "code",
   "execution_count": 2,
   "metadata": {
    "collapsed": true
   },
   "outputs": [],
   "source": [
    "def get_data(n=1342,m=175):\n",
    "\n",
    "    input_dir = './cancer_data/inputs/'\n",
    "    output_dir = './cancer_data/outputs/'\n",
    "\n",
    "    files = os.listdir(input_dir)\n",
    "    shuffle(files)\n",
    "    train_images, train_label, test_images, test_label = [], [], [], []\n",
    "    train_images_fn = [x for x in files if 'train' in x][:n]\n",
    "    test_images_fn = [x for x in files if 'test' in x][:m]\n",
    "\n",
    "    for f in tqdm(train_images_fn):\n",
    "        train_images.append(transform.resize(imread(input_dir + f), (512,512,3), mode='constant'))\n",
    "        train_label.append(transform.resize(imread(output_dir + f), (512,512), mode='constant', order=0))\n",
    "\n",
    "    for f in tqdm(test_images_fn):\n",
    "        test_images.append(transform.resize(imread(input_dir + f), (512,512,3), mode='constant'))\n",
    "        test_label.append(transform.resize(imread(output_dir + f), (512,512), mode='constant', order=0))\n",
    "\n",
    "    #whiten the data\n",
    "    train_images = train_images - np.mean( train_images )\n",
    "    train_images = train_images / np.sqrt( np.var( train_images ) )\n",
    "\n",
    "    test_images = test_images - np.mean( test_images )\n",
    "    test_images = test_images / np.sqrt( np.var( test_images ) )\n",
    "\n",
    "    return train_images, np.array(train_label), test_images, np.array(test_label)"
   ]
  },
  {
   "cell_type": "code",
   "execution_count": 3,
   "metadata": {
    "collapsed": false
   },
   "outputs": [
    {
     "name": "stderr",
     "output_type": "stream",
     "text": [
      "100%|██████████| 1342/1342 [02:07<00:00, 10.55it/s]\n",
      "100%|██████████| 175/175 [00:16<00:00, 10.88it/s]\n"
     ]
    }
   ],
   "source": [
    "train_images, train_labels, test_images, test_labels = get_data()"
   ]
  },
  {
   "cell_type": "markdown",
   "metadata": {},
   "source": [
    "## Helper Functions"
   ]
  },
  {
   "cell_type": "code",
   "execution_count": 4,
   "metadata": {
    "collapsed": true
   },
   "outputs": [],
   "source": [
    "def conv( x, filter_size=3, stride=2, num_filters=64, is_output=False, name=\"conv\" ):\n",
    "    filter_height, filter_width = filter_size, filter_size\n",
    "    in_channels = x.get_shape().as_list()[-1]\n",
    "    out_channels = num_filters\n",
    "    \n",
    "    with tf.variable_scope(name) as scope:\n",
    "        W = tf.get_variable(\"{}_W\".format(name), shape=[filter_height, filter_width, in_channels, out_channels],\n",
    "                            initializer = tf.contrib.layers.variance_scaling_initializer())\n",
    "        b = tf.get_variable(\"{}_b\".format(name), shape=[out_channels],\n",
    "                            initializer = tf.contrib.layers.variance_scaling_initializer())\n",
    "        conv = tf.nn.conv2d(x, W, [1, stride, stride, 1], padding=\"SAME\")\n",
    "        out = tf.nn.bias_add(conv, b)\n",
    "        \n",
    "        if not is_output:\n",
    "            out = tf.nn.relu(out)\n",
    "            \n",
    "    return out\n",
    "\n",
    "def fc( x, out_size=50, is_output=False, name=\"fc\" ):\n",
    "    in_size = x.get_shape().as_list()[0]\n",
    "    \n",
    "    with tf.variable_scope(name) as scope:\n",
    "        W = tf.get_variable(\"{}_W\".format(name), shape=[out_size, in_size], initializer = tf.contrib.layers.variance_scaling_initializer())\n",
    "        b = tf.get_variable(\"{}_b\".format(name), shape=[out_size, 1], initializer = tf.contrib.layers.variance_scaling_initializer())\n",
    "        \n",
    "        out = tf.matmul(W, x)\n",
    "        out = out + b\n",
    "        \n",
    "        if not is_output:\n",
    "            out = tf.nn.relu(out)\n",
    "    return out\n",
    "\n"
   ]
  },
  {
   "cell_type": "markdown",
   "metadata": {},
   "source": [
    "## Network Topology"
   ]
  },
  {
   "cell_type": "markdown",
   "metadata": {},
   "source": [
    "I had initially coded up the deep u-net topology using convt layers, however, with my limited compute power I found that I was unable to train the network and iterate in an agile way. As such, I decided to use a smaller (significantly) convolution network that doesn't change the size of the image. I chose to do this for a number of reasons. First, since our situation is a simple binary classification (per pixel) we can output the network with a single $z$ dimension on the final layer. This output is then passed through a sigmoid cross entropy function which calculates the probabilities that each pixel is cancerous. This is compared against the training labels provided."
   ]
  },
  {
   "cell_type": "markdown",
   "metadata": {},
   "source": [
    "## Model No Regularization"
   ]
  },
  {
   "cell_type": "markdown",
   "metadata": {},
   "source": [
    "We will see below that we can achieve 91.0470864432% accuracy with this simple network and we have a generalization error of 0.0176730009537"
   ]
  },
  {
   "cell_type": "code",
   "execution_count": 5,
   "metadata": {
    "collapsed": true
   },
   "outputs": [],
   "source": [
    "def network_model(input_data):\n",
    "    # input_data = [1, 512, 512, 3]\n",
    "    h0 = conv(input_data, stride=1, name=\"h0\") #[1, 512, 512, 64]\n",
    "    h1 = conv(h0, stride=1, name=\"h1\") #[1, 512, 512, 64]\n",
    "    output = conv(h1, stride=1, num_filters=1, is_output=True, name=\"output\") #[1, 512, 512, 1]\n",
    "    return output"
   ]
  },
  {
   "cell_type": "markdown",
   "metadata": {},
   "source": [
    "## Regularization Model with Dropout"
   ]
  },
  {
   "cell_type": "markdown",
   "metadata": {},
   "source": [
    "I then chose to regularize first with drop out. I converted each layer (except the output) into a dropout layer with $p=0.20$ which changes our accuracy to 90.9982256208% and moves the generalization error to 0.0115938032417 which is great because the generalization error is lower (which we would expect) and that trend will continue as we train for more steps. You can notice in the graphs that there is much more room for training (if time permitted)"
   ]
  },
  {
   "cell_type": "code",
   "execution_count": 6,
   "metadata": {
    "collapsed": true
   },
   "outputs": [],
   "source": [
    "def network_model_with_dropout(input_data):\n",
    "    # input_data = [1, 512, 512, 3]\n",
    "    keep_prob = 0.2\n",
    "    h0 = conv(input_data, stride=1, name=\"h0\") #[1, 512, 512, 64]\n",
    "    h0_drop = tf.nn.dropout(h0, keep_prob)\n",
    "    h1 = conv(h0_drop, stride=1, name=\"h1\") #[1, 512, 512, 64]\n",
    "    h1_drop = tf.nn.dropout(h1, keep_prob) #[1, 512, 512, 64]\n",
    "    output = conv(h1_drop, stride=1, num_filters=1, is_output=True, name=\"output\") #[1, 512, 512, 1]\n",
    "    return output"
   ]
  },
  {
   "cell_type": "markdown",
   "metadata": {},
   "source": [
    "## Regularization Model with L2"
   ]
  },
  {
   "cell_type": "markdown",
   "metadata": {},
   "source": [
    "The second regularization strategy that I chose was L2 regularization, there wasn't a particular reason, I just felt that with the complexity of the system it might perform better than other forms of regularization"
   ]
  },
  {
   "cell_type": "markdown",
   "metadata": {},
   "source": [
    "I had no idea what to choose for $\\lambda$ initially, so I decided on something small since the purpose of the regularization is to 'penalize' the weights and keep them small. So I tried that and it seemed to work quite well. "
   ]
  },
  {
   "cell_type": "markdown",
   "metadata": {},
   "source": [
    "With this regularization model accuracy was the heighest at 91.0563267299% and generalization error was the lowest at 0.0104928734032. Which is fascinating. "
   ]
  },
  {
   "cell_type": "code",
   "execution_count": 7,
   "metadata": {
    "collapsed": true
   },
   "outputs": [],
   "source": [
    "# Just use network_model with the following params, and a regularizer as show in the training step below\n",
    "lmbda = 0.01"
   ]
  },
  {
   "cell_type": "markdown",
   "metadata": {
    "collapsed": true
   },
   "source": [
    "## Training"
   ]
  },
  {
   "cell_type": "markdown",
   "metadata": {},
   "source": [
    "For simplicity, and since we have a very small data set, we only train for 10,000 steps. This equates to almost 10 passes through our data which has been emperically shown to be sufficient for learning."
   ]
  },
  {
   "cell_type": "markdown",
   "metadata": {},
   "source": [
    "We first overfit on a single positive image, and a single negative image - which we were able to do in very few iterations with the current topology."
   ]
  },
  {
   "cell_type": "markdown",
   "metadata": {},
   "source": [
    "## Loss Function Choice"
   ]
  },
  {
   "cell_type": "markdown",
   "metadata": {},
   "source": [
    "I decided to use the sigmoid cross entropy with logits built in loss function after reshaping the data since it applies to the sigmoid to the output of our network (which produces the desired probabilities) and then it performs pixel wise cross entropy with the label image. This then gives a vector of loss values which are then summed to give a single loss value. This number is passed through the optimizer as seen below. \n",
    "\n",
    "There are many options for training. We could have chosen to have our network output a picture with two dimensions - one for each class, and then used some softmax cross entropy. However, the current implementation was easier for me to conceptualize and works well. "
   ]
  },
  {
   "cell_type": "code",
   "execution_count": 10,
   "metadata": {
    "collapsed": true
   },
   "outputs": [],
   "source": [
    "def train(train_images, train_labels, test_images, test_labels, drop=False,L2=False):\n",
    "    tf.reset_default_graph()\n",
    "    sess = tf.Session()\n",
    "\n",
    "    input_data  = tf.placeholder(tf.float32, [1, 512, 512, 3])\n",
    "    output_data = tf.placeholder(tf.float32, [1, 512, 512, 1])\n",
    "\n",
    "    with tf.name_scope( \"model\" ):\n",
    "        if drop:\n",
    "            output = network_model_with_dropout( input_data )\n",
    "        elif L2:\n",
    "            output = network_model( input_data )\n",
    "            regularizer = tf.nn.l2_loss(output)\n",
    "        else:\n",
    "            output = network_model( input_data )\n",
    "\n",
    "    with tf.name_scope(\"loss\"):\n",
    "        loss = tf.reduce_sum(tf.nn.sigmoid_cross_entropy_with_logits(logits=tf.reshape(output, [1,512*512]),\n",
    "                                                                     labels=tf.reshape(output_data, [1,512*512])))\n",
    "        if L2:\n",
    "            loss = tf.reduce_mean(loss + lmbda * regularizer)\n",
    "\n",
    "    with tf.name_scope( \"accuracy\" ) as scope:\n",
    "        correct_prediction = tf.equal( output_data, tf.cast(output >0.5, tf.float32)  )\n",
    "        accuracy = tf.reduce_mean( tf.cast(correct_prediction, tf.float32) )\n",
    "    optim = tf.train.AdamOptimizer(0.0001).minimize(loss)\n",
    "\n",
    "\n",
    "    saver = tf.train.Saver()\n",
    "    sess.run( tf.global_variables_initializer() )\n",
    "\n",
    "    loss_ans = 0.0\n",
    "    tmp_loss = []\n",
    "    tmp_acc = []\n",
    "    gen_err = []\n",
    "\n",
    "    for i in range(10000):\n",
    "        ind = np.random.randint(0,1342)\n",
    "        _, loss_val = sess.run([optim,loss], feed_dict={input_data: train_images[ind].reshape([1,512,512,3]),\n",
    "                                                        output_data: train_labels[ind].reshape([1,512,512, 1])})\n",
    "        loss_ans += loss_val\n",
    "        \n",
    "        if i % 1000 == 0 or i == 10000:\n",
    "            acc = 0.0\n",
    "            for k in range(len(test_images)):\n",
    "                acc += sess.run(accuracy, feed_dict={input_data:test_images[k].reshape([1,512,512,3]),\n",
    "                                                     output_data:test_labels[k].reshape([1,512,512,1])})\n",
    "            train_acc = 0.0\n",
    "            for k in range(len(train_images)):\n",
    "                train_acc += sess.run(accuracy, feed_dict={input_data:train_images[k].reshape([1,512,512,3]),\n",
    "                                                     output_data:train_labels[k].reshape([1,512,512,1])})\n",
    "            train_acc = train_acc/1342.0\n",
    "            acc = acc/175.0\n",
    "            err = abs(train_acc - acc)\n",
    "            gen_err.append(err)\n",
    "            tmp_acc.append(acc)\n",
    "            tmp_loss.append(loss_ans/1000.0)\n",
    "            print(\"i: {}, test_acc: {}, loss: {}, gen_err: {}\".format(i, acc, loss_ans/1000.0, err))\n",
    "            loss_ans = 0.0\n",
    "            \n",
    "    return tmp_loss, tmp_acc, gen_err"
   ]
  },
  {
   "cell_type": "markdown",
   "metadata": {},
   "source": [
    "## Evaluation No Regularization"
   ]
  },
  {
   "cell_type": "code",
   "execution_count": 11,
   "metadata": {
    "collapsed": false,
    "scrolled": true
   },
   "outputs": [
    {
     "name": "stdout",
     "output_type": "stream",
     "text": [
      "i: 0, test_acc: 0.838554905483, loss: 252.877640625, gen_err: 0.113795989802\n",
      "i: 1000, test_acc: 0.908406481062, loss: 85631.4347782, gen_err: 0.014095863828\n",
      "i: 2000, test_acc: 0.909944675991, loss: 69362.9793691, gen_err: 0.00707857966448\n",
      "i: 3000, test_acc: 0.90911982945, loss: 67799.7589165, gen_err: 0.010416358069\n",
      "i: 4000, test_acc: 0.907995387486, loss: 66928.8113102, gen_err: 0.0134676792989\n",
      "i: 5000, test_acc: 0.909938289097, loss: 66953.8381612, gen_err: 0.00478901970912\n",
      "i: 6000, test_acc: 0.909582933698, loss: 66067.5769257, gen_err: 0.00590832337283\n",
      "i: 7000, test_acc: 0.909706246512, loss: 64145.1737291, gen_err: 0.00439271489534\n",
      "i: 8000, test_acc: 0.910121983119, loss: 61968.382462, gen_err: 0.00135632671497\n",
      "i: 9000, test_acc: 0.910470864432, loss: 59247.9272042, gen_err: 0.00142915418307\n"
     ]
    }
   ],
   "source": [
    "loss, arr, err = train(train_images, train_labels, test_images, test_labels)"
   ]
  },
  {
   "cell_type": "code",
   "execution_count": 13,
   "metadata": {
    "collapsed": false
   },
   "outputs": [
    {
     "name": "stdout",
     "output_type": "stream",
     "text": [
      "Generalization error: 0.0176730009537, Test Accuracy: 0.910470864432\n"
     ]
    }
   ],
   "source": [
    "print(\"Generalization error: {}, Test Accuracy: {}\".format(np.mean(err), np.max(arr)))"
   ]
  },
  {
   "cell_type": "code",
   "execution_count": 17,
   "metadata": {
    "collapsed": false
   },
   "outputs": [
    {
     "data": {
      "image/png": "[encoded data removed]",
      "text/plain": [
       "<matplotlib.figure.Figure at 0x7f117f6e1110>"
      ]
     },
     "metadata": {},
     "output_type": "display_data"
    },
    {
     "data": {
      "image/png": "[encoded data removed]",
      "text/plain": [
       "<matplotlib.figure.Figure at 0x7f117f5f07d0>"
      ]
     },
     "metadata": {},
     "output_type": "display_data"
    },
    {
     "data": {
      "image/png": "[encoded data removed]",
      "text/plain": [
       "<matplotlib.figure.Figure at 0x7f117f4c4c10>"
      ]
     },
     "metadata": {},
     "output_type": "display_data"
    }
   ],
   "source": [
    "plt.plot(loss)\n",
    "plt.title(\"Loss\")\n",
    "plt.show()\n",
    "\n",
    "plt.plot(arr)\n",
    "plt.title(\"Accuracy\")\n",
    "plt.show()\n",
    "\n",
    "plt.plot(err)\n",
    "plt.title(\"Error\")\n",
    "plt.show()"
   ]
  },
  {
   "cell_type": "markdown",
   "metadata": {},
   "source": [
    "## Evaluation Dropout p=0.2"
   ]
  },
  {
   "cell_type": "code",
   "execution_count": 18,
   "metadata": {
    "collapsed": false,
    "scrolled": true
   },
   "outputs": [
    {
     "name": "stdout",
     "output_type": "stream",
     "text": [
      "i: 0, test_acc: 0.447463291713, loss: 567.209125, gen_err: 0.0179167131924\n",
      "i: 1000, test_acc: 0.856356004987, loss: 219173.085518, gen_err: 0.00782963447985\n",
      "i: 2000, test_acc: 0.898220803397, loss: 114693.784225, gen_err: 0.0173809112101\n",
      "i: 3000, test_acc: 0.903602360317, loss: 91568.9894268, gen_err: 0.0127009397348\n",
      "i: 4000, test_acc: 0.905606798444, loss: 86495.5889871, gen_err: 0.0107104119895\n",
      "i: 5000, test_acc: 0.908388061523, loss: 80753.8206501, gen_err: 0.0111960715508\n",
      "i: 6000, test_acc: 0.909368504116, loss: 76939.0691891, gen_err: 0.0107466621391\n",
      "i: 7000, test_acc: 0.908731842041, loss: 75497.5068856, gen_err: 0.00885450985677\n",
      "i: 8000, test_acc: 0.909545789446, loss: 71575.6722047, gen_err: 0.00875347852961\n",
      "i: 9000, test_acc: 0.909982256208, loss: 75875.9919271, gen_err: 0.00984869973416\n"
     ]
    }
   ],
   "source": [
    "loss, arr, err = train(train_images, train_labels, test_images, test_labels, drop=True)"
   ]
  },
  {
   "cell_type": "code",
   "execution_count": 19,
   "metadata": {
    "collapsed": false
   },
   "outputs": [
    {
     "name": "stdout",
     "output_type": "stream",
     "text": [
      "Generalization error: 0.0115938032417, Test Accuracy: 0.909982256208\n"
     ]
    }
   ],
   "source": [
    "print(\"Generalization error: {}, Test Accuracy: {}\".format(np.mean(err), np.max(arr)))"
   ]
  },
  {
   "cell_type": "code",
   "execution_count": 20,
   "metadata": {
    "collapsed": false
   },
   "outputs": [
    {
     "data": {
      "image/png": "[encoded data removed]",
      "text/plain": [
       "<matplotlib.figure.Figure at 0x7f117f707150>"
      ]
     },
     "metadata": {},
     "output_type": "display_data"
    },
    {
     "data": {
      "image/png": "[encoded data removed]",
      "text/plain": [
       "<matplotlib.figure.Figure at 0x7f117f3fdcd0>"
      ]
     },
     "metadata": {},
     "output_type": "display_data"
    },
    {
     "data": {
      "image/png": "[encoded data removed]",
      "text/plain": [
       "<matplotlib.figure.Figure at 0x7f117f322110>"
      ]
     },
     "metadata": {},
     "output_type": "display_data"
    }
   ],
   "source": [
    "plt.plot(loss)\n",
    "plt.title(\"Loss\")\n",
    "plt.show()\n",
    "\n",
    "plt.plot(arr)\n",
    "plt.title(\"Accuracy\")\n",
    "plt.show()\n",
    "\n",
    "plt.plot(err)\n",
    "plt.title(\"Error\")\n",
    "plt.show()"
   ]
  },
  {
   "cell_type": "markdown",
   "metadata": {},
   "source": [
    "## Evaluation L2 with $\\lambda = 0.01$"
   ]
  },
  {
   "cell_type": "code",
   "execution_count": 21,
   "metadata": {
    "collapsed": false,
    "scrolled": true
   },
   "outputs": [
    {
     "name": "stdout",
     "output_type": "stream",
     "text": [
      "i: 0, test_acc: 0.129757494245, loss: 153.6799375, gen_err: 0.061526116933\n",
      "i: 1000, test_acc: 0.909274989537, loss: 95767.208541, gen_err: 0.0109406398605\n",
      "i: 2000, test_acc: 0.909834398542, loss: 82757.136498, gen_err: 0.00448150334268\n",
      "i: 3000, test_acc: 0.909955487932, loss: 78926.3432734, gen_err: 0.00565015067185\n",
      "i: 4000, test_acc: 0.908696354457, loss: 75186.0781777, gen_err: 0.00783323002491\n",
      "i: 5000, test_acc: 0.910090462821, loss: 74270.3404395, gen_err: 0.00207596919982\n",
      "i: 6000, test_acc: 0.908568725586, loss: 73588.7671543, gen_err: 0.0077570427157\n",
      "i: 7000, test_acc: 0.910396401542, loss: 75120.1497578, gen_err: 0.00170396913232\n",
      "i: 8000, test_acc: 0.910286821638, loss: 75708.4697051, gen_err: 0.00266067670563\n",
      "i: 9000, test_acc: 0.910563267299, loss: 71612.8136445, gen_err: 0.000299435445596\n"
     ]
    }
   ],
   "source": [
    "loss, arr, err = train(train_images, train_labels, test_images, test_labels, L2=True)"
   ]
  },
  {
   "cell_type": "code",
   "execution_count": 22,
   "metadata": {
    "collapsed": false
   },
   "outputs": [
    {
     "name": "stdout",
     "output_type": "stream",
     "text": [
      "Generalization error: 0.0104928734032, Test Accuracy: 0.910563267299\n"
     ]
    }
   ],
   "source": [
    "print(\"Generalization error: {}, Test Accuracy: {}\".format(np.mean(err), np.max(arr)))"
   ]
  },
  {
   "cell_type": "code",
   "execution_count": 23,
   "metadata": {
    "collapsed": false
   },
   "outputs": [
    {
     "data": {
      "image/png": "[encoded data removed]",
      "text/plain": [
       "<matplotlib.figure.Figure at 0x7f117c0f0f50>"
      ]
     },
     "metadata": {},
     "output_type": "display_data"
    },
    {
     "data": {
      "image/png": "[encoded data removed]",
      "text/plain": [
       "<matplotlib.figure.Figure at 0x7f117ec44a50>"
      ]
     },
     "metadata": {},
     "output_type": "display_data"
    },
    {
     "data": {
      "image/png": "[encoded data removed]",
      "text/plain": [
       "<matplotlib.figure.Figure at 0x7f117e997e90>"
      ]
     },
     "metadata": {},
     "output_type": "display_data"
    }
   ],
   "source": [
    "plt.plot(loss)\n",
    "plt.title(\"Loss\")\n",
    "plt.show()\n",
    "\n",
    "plt.plot(arr)\n",
    "plt.title(\"Accuracy\")\n",
    "plt.show()\n",
    "\n",
    "plt.plot(err)\n",
    "plt.title(\"Error\")\n",
    "plt.show()"
   ]
  },
  {
   "cell_type": "code",
   "execution_count": null,
   "metadata": {
    "collapsed": true
   },
   "outputs": [],
   "source": []
  }
 ],
 "metadata": {
  "anaconda-cloud": {},
  "kernelspec": {
   "display_name": "Python [default]",
   "language": "python",
   "name": "python2"
  },
  "language_info": {
   "codemirror_mode": {
    "name": "ipython",
    "version": 2
   },
   "file_extension": ".py",
   "mimetype": "text/x-python",
   "name": "python",
   "nbconvert_exporter": "python",
   "pygments_lexer": "ipython2",
   "version": "2.7.12"
  }
 },
 "nbformat": 4,
 "nbformat_minor": 1
}
