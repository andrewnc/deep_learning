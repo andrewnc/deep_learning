{
 "cells": [
  {
   "cell_type": "markdown",
   "metadata": {},
   "source": [
    "## Imports"
   ]
  },
  {
   "cell_type": "code",
   "execution_count": 1,
   "metadata": {
    "collapsed": true
   },
   "outputs": [],
   "source": [
    "import numpy as np\n",
    "import matplotlib.pyplot as plt\n",
    "from tqdm import tqdm\n",
    "%matplotlib inline"
   ]
  },
  {
   "cell_type": "markdown",
   "metadata": {},
   "source": [
    "## Loading Data"
   ]
  },
  {
   "cell_type": "code",
   "execution_count": 2,
   "metadata": {
    "collapsed": false
   },
   "outputs": [],
   "source": [
    "def unpickle( file ):\n",
    "    import cPickle\n",
    "    fo = open(file, 'rb')\n",
    "    dict = cPickle.load(fo)\n",
    "    fo.close()\n",
    "    return dict\n",
    " \n",
    "data = unpickle( 'cifar-10-batches-py/data_batch_1' )\n",
    " \n",
    "features = data['data']\n",
    "labels = data['labels']\n",
    "labels = np.atleast_2d( labels ).T\n",
    " \n",
    "N = 1000\n",
    "D = 10\n",
    " \n",
    "# only keep N items\n",
    "features = features[ 0:N, : ] \n",
    "labels = labels[ 0:N, : ]\n",
    " \n",
    "# project down into a D-dimensional space\n",
    "features = np.dot( features, np.random.randn( 3072, D) )\n",
    " \n",
    "# whiten our data - zero mean and unit standard deviation\n",
    "features = (features - np.mean(features, axis=0)) / np.std(features, axis=0)"
   ]
  },
  {
   "cell_type": "markdown",
   "metadata": {},
   "source": [
    "## Plotting"
   ]
  },
  {
   "cell_type": "code",
   "execution_count": 3,
   "metadata": {
    "collapsed": true
   },
   "outputs": [],
   "source": [
    "def plot_accuracy( accuracies ):\n",
    "    plt.plot(accuracies)\n",
    "    plt.title(\"Accuracy\")\n",
    "    plt.xlabel(\"Iterations\")\n",
    "    plt.ylabel(\"% correct guess\")\n",
    "    plt.show()\n",
    "    \n",
    "def plot_loss( loss ):\n",
    "    plt.plot(loss)\n",
    "    plt.title(\"Loss\")\n",
    "    plt.xlabel(\"Iterations\")\n",
    "    plt.ylabel(\"Cost function (soft max)\")\n",
    "    plt.show()"
   ]
  },
  {
   "cell_type": "markdown",
   "metadata": {},
   "source": [
    "## Gradient Descent"
   ]
  },
  {
   "cell_type": "code",
   "execution_count": 4,
   "metadata": {
    "collapsed": false
   },
   "outputs": [],
   "source": [
    "class GD(object):\n",
    "    def __init__( self, labels, features, delta, step_size, iterations=1000 ):\n",
    "        self.labels = labels\n",
    "        self.features = features\n",
    "        self.delta = delta\n",
    "        self.step_size = step_size\n",
    "        self.W = np.random.rand( 10,10 )\n",
    "        self.loss = []\n",
    "        self.iterations = iterations\n",
    "        self.accuracies = []\n",
    "        \n",
    "    def score_function( self, W, features ):\n",
    "        \"\"\"updates the scores matrix\"\"\"\n",
    "        return features.dot( W )\n",
    "    \n",
    "    def loss_function( self, scores ):\n",
    "        \"\"\"updates the loss value\"\"\"\n",
    "        all_loss_values = - np.log10( np.divide( np.exp( scores - np.max( scores, axis=0 ) ),np.sum( np.exp( scores - np.max( scores, axis=0 ) ), axis=0 )))\n",
    "        Li = all_loss_values[range( len( self.labels ) ), np.array( self.labels ).T].T #do indexing magic here\n",
    "        return np.mean(Li)\n",
    "    \n",
    "    def get_accuracy( self ):\n",
    "        \"\"\"return accuracy of current iteration\"\"\"\n",
    "        scores = self.score_function(self.W, self.features)\n",
    "        probs = np.exp( scores - np.max( scores, axis=0 ) )/np.sum( np.exp( scores - np.max( scores, axis=0 ) ), axis=0)\n",
    "        guesses = np.argmax( probs, axis=1 )\n",
    "        correct = 0\n",
    "        for i, guess in enumerate( guesses ):\n",
    "            if guess == self.labels[i]:\n",
    "                correct += 1\n",
    "        return correct / float( len( guesses ) )\n",
    "        \n",
    "    \n",
    "    def numerical_gradient( self ):\n",
    "        \"\"\"calculate and return the gradient and the loss of the current iteration\"\"\"\n",
    "        original_loss = self.loss_function( self.score_function( self.W, self.features ) )\n",
    "        grad = np.zeros( [10,10] )\n",
    "        new_w = self.W.copy()\n",
    "        for i in range( len( self.W ) ):\n",
    "            for j in range( len( self.W ) ):\n",
    "                new_w[i][j] += self.delta\n",
    "                li = self.loss_function( self.score_function( new_w, self.features ) )\n",
    "                new_w[i][j] -= self.delta\n",
    "                val = ( li - original_loss )/self.delta\n",
    "                grad[i][j] = val\n",
    "        return grad, original_loss\n",
    "        \n",
    "    def run(self):\n",
    "        \"\"\"update weights using gradient descent\"\"\"\n",
    "        NUM_EPOCHS = self.iterations\n",
    "        for _ in tqdm( range( 0,NUM_EPOCHS ) ):\n",
    "            grad, loss = self.numerical_gradient()\n",
    "            self.W = self.W - self.step_size * grad\n",
    "            self.loss.append(loss)\n",
    "            self.accuracies.append(self.get_accuracy())\n",
    "        "
   ]
  },
  {
   "cell_type": "code",
   "execution_count": 5,
   "metadata": {
    "collapsed": false
   },
   "outputs": [
    {
     "name": "stderr",
     "output_type": "stream",
     "text": [
      "100%|██████████| 1000/1000 [00:59<00:00, 16.84it/s]\n"
     ]
    },
    {
     "data": {
      "image/png": "[encoded data removed]",
      "text/plain": [
       "<matplotlib.figure.Figure at 0x10c56fa90>"
      ]
     },
     "metadata": {},
     "output_type": "display_data"
    },
    {
     "data": {
      "image/png": "[encoded data removed]",
      "text/plain": [
       "<matplotlib.figure.Figure at 0x10d205ed0>"
      ]
     },
     "metadata": {},
     "output_type": "display_data"
    }
   ],
   "source": [
    "gradient_object = GD( labels, features, 0.000001, 0.1 )\n",
    "gradient_object.run()\n",
    "plot_accuracy( gradient_object.accuracies )\n",
    "plot_loss( gradient_object.loss )"
   ]
  },
  {
   "cell_type": "code",
   "execution_count": null,
   "metadata": {
    "collapsed": true
   },
   "outputs": [],
   "source": []
  }
 ],
 "metadata": {
  "anaconda-cloud": {},
  "kernelspec": {
   "display_name": "Python [default]",
   "language": "python",
   "name": "python2"
  },
  "language_info": {
   "codemirror_mode": {
    "name": "ipython",
    "version": 2
   },
   "file_extension": ".py",
   "mimetype": "text/x-python",
   "name": "python",
   "nbconvert_exporter": "python",
   "pygments_lexer": "ipython2",
   "version": "2.7.12"
  }
 },
 "nbformat": 4,
 "nbformat_minor": 1
}
